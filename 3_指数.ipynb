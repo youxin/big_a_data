{
 "cells": [
  {
   "metadata": {
    "ExecuteTime": {
     "end_time": "2024-07-11T16:25:00.787072Z",
     "start_time": "2024-07-11T16:24:56.748264Z"
    }
   },
   "cell_type": "code",
   "source": [
    "import pandas as pd\n",
    "import akshare as ak\n",
    "\n",
    "df = pd.read_csv('指数列表_常用.csv', converters={'code':str})\n",
    "for idx, row in df.iterrows():\n",
    "    code = row['code']\n",
    "    name = row['name']\n",
    "    df_cons = ak.index_stock_cons_sina(symbol = code)\n",
    "    df_cons.to_csv(f'./指数成分/{name}.csv', index = False)\n",
    "print('Done', len(df))"
   ],
   "id": "1ad999f2ed66abdf",
   "outputs": [
    {
     "name": "stdout",
     "output_type": "stream",
     "text": [
      "Done 8\n"
     ]
    }
   ],
   "execution_count": 15
  },
  {
   "metadata": {},
   "cell_type": "code",
   "outputs": [],
   "execution_count": null,
   "source": "",
   "id": "8215f6ab7c4b4e4b"
  }
 ],
 "metadata": {
  "kernelspec": {
   "display_name": "Python 3 (ipykernel)",
   "language": "python",
   "name": "python3"
  },
  "language_info": {
   "codemirror_mode": {
    "name": "ipython",
    "version": 3
   },
   "file_extension": ".py",
   "mimetype": "text/x-python",
   "name": "python",
   "nbconvert_exporter": "python",
   "pygments_lexer": "ipython3",
   "version": "3.11.9"
  }
 },
 "nbformat": 4,
 "nbformat_minor": 5
}
