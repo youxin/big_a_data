{
 "cells": [
  {
   "cell_type": "code",
   "id": "62d2e9f1-788b-4554-a2c2-01b15d2e017b",
   "metadata": {
    "ExecuteTime": {
     "end_time": "2025-05-25T00:56:51.633257Z",
     "start_time": "2025-05-25T00:56:50.921528Z"
    }
   },
   "source": [
    "#大A所有股票\n",
    "import akshare as ak\n",
    "import pandas as pd\n",
    "\n",
    "df = ak.stock_a_indicator_lg(symbol=\"all\")\n",
    "df.rename(columns = {'stock_name' : 'name'}, inplace = True)\n",
    "df.sort_values(by = ['code'], inplace = True)\n",
    "\n",
    "df.to_csv('all.csv', index = False)\n",
    "print(f'Done, {len(df)}')\n",
    "df.head(3)"
   ],
   "outputs": [
    {
     "name": "stdout",
     "output_type": "stream",
     "text": [
      "Done, 5386\n"
     ]
    },
    {
     "data": {
      "text/plain": [
       "       code  name\n",
       "172  000001  平安银行\n",
       "173  000002   万科A\n",
       "174  000004  国华网安"
      ],
      "text/html": [
       "<div>\n",
       "<style scoped>\n",
       "    .dataframe tbody tr th:only-of-type {\n",
       "        vertical-align: middle;\n",
       "    }\n",
       "\n",
       "    .dataframe tbody tr th {\n",
       "        vertical-align: top;\n",
       "    }\n",
       "\n",
       "    .dataframe thead th {\n",
       "        text-align: right;\n",
       "    }\n",
       "</style>\n",
       "<table border=\"1\" class=\"dataframe\">\n",
       "  <thead>\n",
       "    <tr style=\"text-align: right;\">\n",
       "      <th></th>\n",
       "      <th>code</th>\n",
       "      <th>name</th>\n",
       "    </tr>\n",
       "  </thead>\n",
       "  <tbody>\n",
       "    <tr>\n",
       "      <th>172</th>\n",
       "      <td>000001</td>\n",
       "      <td>平安银行</td>\n",
       "    </tr>\n",
       "    <tr>\n",
       "      <th>173</th>\n",
       "      <td>000002</td>\n",
       "      <td>万科A</td>\n",
       "    </tr>\n",
       "    <tr>\n",
       "      <th>174</th>\n",
       "      <td>000004</td>\n",
       "      <td>国华网安</td>\n",
       "    </tr>\n",
       "  </tbody>\n",
       "</table>\n",
       "</div>"
      ]
     },
     "execution_count": 2,
     "metadata": {},
     "output_type": "execute_result"
    }
   ],
   "execution_count": 2
  },
  {
   "metadata": {
    "ExecuteTime": {
     "end_time": "2025-05-25T00:56:51.636674Z",
     "start_time": "2025-05-25T00:56:51.634815Z"
    }
   },
   "cell_type": "code",
   "source": "",
   "id": "3c463ddd8b47ae55",
   "outputs": [],
   "execution_count": 2
  }
 ],
 "metadata": {
  "kernelspec": {
   "display_name": "Python 3 (ipykernel)",
   "language": "python",
   "name": "python3"
  },
  "language_info": {
   "codemirror_mode": {
    "name": "ipython",
    "version": 3
   },
   "file_extension": ".py",
   "mimetype": "text/x-python",
   "name": "python",
   "nbconvert_exporter": "python",
   "pygments_lexer": "ipython3",
   "version": "3.11.9"
  }
 },
 "nbformat": 4,
 "nbformat_minor": 5
}
