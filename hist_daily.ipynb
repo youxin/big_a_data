{
 "cells": [
  {
   "cell_type": "code",
   "id": "9593d05a-eb8c-4a8b-bca1-e426eecbf1b6",
   "metadata": {
    "ExecuteTime": {
     "end_time": "2024-07-27T10:15:59.847033Z",
     "start_time": "2024-07-27T10:15:59.825770Z"
    }
   },
   "source": [
    "import pandas as pd\n",
    "\n",
    "filename = 'all.csv'\n",
    "df = pd.read_csv(filename, converters={'code': str})\n",
    "df = df[df['code'].isin(['002179', '002223', '600887', '000063', '601318', '600660'])]\n",
    "print('Done', len(df))\n",
    "df"
   ],
   "outputs": [
    {
     "name": "stdout",
     "output_type": "stream",
     "text": [
      "Done 6\n"
     ]
    },
    {
     "data": {
      "text/plain": [
       "        code  name    行业      上市时间     最新     涨幅  股息率_2023\n",
       "43    000063  中兴通讯  通信设备  19971118  29.12   0.94      2.35\n",
       "688   002179  中航光电  电子元件  20071101  36.52   0.77      1.64\n",
       "731   002223  鱼跃医疗  医疗器械  20080418  36.52   0.25      2.19\n",
       "3370  600660  福耀玻璃  玻璃玻纤  19930610  49.17  -0.12      2.64\n",
       "3565  600887  伊利股份  食品饮料  19960312   25.7   2.27      4.67\n",
       "3724  601318  中国平安    保险  20070301  41.94   0.19      5.79"
      ],
      "text/html": [
       "<div>\n",
       "<style scoped>\n",
       "    .dataframe tbody tr th:only-of-type {\n",
       "        vertical-align: middle;\n",
       "    }\n",
       "\n",
       "    .dataframe tbody tr th {\n",
       "        vertical-align: top;\n",
       "    }\n",
       "\n",
       "    .dataframe thead th {\n",
       "        text-align: right;\n",
       "    }\n",
       "</style>\n",
       "<table border=\"1\" class=\"dataframe\">\n",
       "  <thead>\n",
       "    <tr style=\"text-align: right;\">\n",
       "      <th></th>\n",
       "      <th>code</th>\n",
       "      <th>name</th>\n",
       "      <th>行业</th>\n",
       "      <th>上市时间</th>\n",
       "      <th>最新</th>\n",
       "      <th>涨幅</th>\n",
       "      <th>股息率_2023</th>\n",
       "    </tr>\n",
       "  </thead>\n",
       "  <tbody>\n",
       "    <tr>\n",
       "      <th>43</th>\n",
       "      <td>000063</td>\n",
       "      <td>中兴通讯</td>\n",
       "      <td>通信设备</td>\n",
       "      <td>19971118</td>\n",
       "      <td>29.12</td>\n",
       "      <td>0.94</td>\n",
       "      <td>2.35</td>\n",
       "    </tr>\n",
       "    <tr>\n",
       "      <th>688</th>\n",
       "      <td>002179</td>\n",
       "      <td>中航光电</td>\n",
       "      <td>电子元件</td>\n",
       "      <td>20071101</td>\n",
       "      <td>36.52</td>\n",
       "      <td>0.77</td>\n",
       "      <td>1.64</td>\n",
       "    </tr>\n",
       "    <tr>\n",
       "      <th>731</th>\n",
       "      <td>002223</td>\n",
       "      <td>鱼跃医疗</td>\n",
       "      <td>医疗器械</td>\n",
       "      <td>20080418</td>\n",
       "      <td>36.52</td>\n",
       "      <td>0.25</td>\n",
       "      <td>2.19</td>\n",
       "    </tr>\n",
       "    <tr>\n",
       "      <th>3370</th>\n",
       "      <td>600660</td>\n",
       "      <td>福耀玻璃</td>\n",
       "      <td>玻璃玻纤</td>\n",
       "      <td>19930610</td>\n",
       "      <td>49.17</td>\n",
       "      <td>-0.12</td>\n",
       "      <td>2.64</td>\n",
       "    </tr>\n",
       "    <tr>\n",
       "      <th>3565</th>\n",
       "      <td>600887</td>\n",
       "      <td>伊利股份</td>\n",
       "      <td>食品饮料</td>\n",
       "      <td>19960312</td>\n",
       "      <td>25.7</td>\n",
       "      <td>2.27</td>\n",
       "      <td>4.67</td>\n",
       "    </tr>\n",
       "    <tr>\n",
       "      <th>3724</th>\n",
       "      <td>601318</td>\n",
       "      <td>中国平安</td>\n",
       "      <td>保险</td>\n",
       "      <td>20070301</td>\n",
       "      <td>41.94</td>\n",
       "      <td>0.19</td>\n",
       "      <td>5.79</td>\n",
       "    </tr>\n",
       "  </tbody>\n",
       "</table>\n",
       "</div>"
      ]
     },
     "execution_count": 5,
     "metadata": {},
     "output_type": "execute_result"
    }
   ],
   "execution_count": 5
  },
  {
   "cell_type": "code",
   "id": "99d231f1-4eac-4ccf-a2ed-76b23d52f604",
   "metadata": {
    "ExecuteTime": {
     "end_time": "2024-07-27T10:16:50.218418Z",
     "start_time": "2024-07-27T10:16:49.726701Z"
    }
   },
   "source": [
    "import pandas as pd\n",
    "import akshare as ak\n",
    "import datetime\n",
    "import os\n",
    "\n",
    "START_DATE = '20060710'\n",
    "for code in df['code']:\n",
    "    print(code, end = '\\r')\n",
    "    filename_daily = f'./hist_daily/{code}.csv'\n",
    "    start_date = START_DATE\n",
    "    bIsDeltaUpdate = False\n",
    "    df_symbol_curr = pd.DataFrame()\n",
    "    if os.path.exists(filename_daily):\n",
    "        df_symbol_curr = pd.read_csv(filename_daily, converters={'股票代码': str})\n",
    "        if len(df_symbol_curr) > 0:\n",
    "            start_date = df_symbol_curr.iloc[-1]['日期'].replace('-', '')\n",
    "            bIsDeltaUpdate = True\n",
    "    end_date = datetime.date.today().strftime(\"%Y%m%d\")\n",
    "    if start_date == end_date:\n",
    "        continue\n",
    "    print(code, start_date, end_date, end='\\r')    \n",
    "    df_symbol = ak.stock_zh_a_hist(symbol = code, \n",
    "                                    period = 'daily', \n",
    "                                    start_date = start_date, \n",
    "                                    end_date = end_date, \n",
    "                                    adjust = '')\n",
    "    if bIsDeltaUpdate:\n",
    "        df_symbol = df_symbol[1 : ]\n",
    "        df_symbol = pd.concat([df_symbol_curr, df_symbol], ignore_index = True)\n",
    "        \n",
    "    df_symbol.to_csv(filename_daily, index = False)\n",
    "print('\\r\\nDone', len(df))"
   ],
   "outputs": [
    {
     "name": "stdout",
     "output_type": "stream",
     "text": [
      "601318 20240712 20240727\r\n",
      "Done 6\n"
     ]
    }
   ],
   "execution_count": 6
  },
  {
   "metadata": {},
   "cell_type": "code",
   "outputs": [],
   "execution_count": null,
   "source": "",
   "id": "c2913bf9e4fde834"
  }
 ],
 "metadata": {
  "kernelspec": {
   "display_name": "Python 3 (ipykernel)",
   "language": "python",
   "name": "python3"
  },
  "language_info": {
   "codemirror_mode": {
    "name": "ipython",
    "version": 3
   },
   "file_extension": ".py",
   "mimetype": "text/x-python",
   "name": "python",
   "nbconvert_exporter": "python",
   "pygments_lexer": "ipython3",
   "version": "3.11.9"
  }
 },
 "nbformat": 4,
 "nbformat_minor": 5
}
