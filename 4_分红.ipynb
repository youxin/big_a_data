{
 "cells": [
  {
   "cell_type": "code",
   "id": "62d2e9f1-788b-4554-a2c2-01b15d2e017b",
   "metadata": {
    "ExecuteTime": {
     "end_time": "2025-05-25T01:19:28.117054Z",
     "start_time": "2025-05-25T01:19:28.106253Z"
    }
   },
   "source": [
    "import pandas as pd\n",
    "\n",
    "filename = 'all.csv'\n",
    "df = pd.read_csv(filename, converters={'code': str})\n",
    "print('Done', len(df))"
   ],
   "outputs": [
    {
     "name": "stdout",
     "output_type": "stream",
     "text": [
      "Done 5385\n"
     ]
    }
   ],
   "execution_count": 6
  },
  {
   "cell_type": "code",
   "id": "16b9d4c5-ef95-4253-af64-6786ad7c9fb6",
   "metadata": {
    "ExecuteTime": {
     "end_time": "2025-05-25T02:03:30.194209Z",
     "start_time": "2025-05-25T02:01:28.652452Z"
    }
   },
   "source": [
    "import akshare as ak\n",
    "import os\n",
    "#debug\n",
    "'''\n",
    "import pandas as pd\n",
    "data = {\n",
    "    'code': ['600737'],\n",
    "    'code_name': ['中粮糖业']\n",
    "}\n",
    "df = pd.DataFrame(data)\n",
    "'''\n",
    "for idx, row in df.iterrows():\n",
    "    #print('.', end = '')\n",
    "    if (idx + 1) % 80 == 0: print(idx)\n",
    "    \n",
    "    code = row['code']\n",
    "    filename_fh = f'./hist_fh/{code}.csv'\n",
    "    if os.path.exists(filename_fh): continue\n",
    "    try:\n",
    "        df_fh = ak.stock_fhps_detail_ths(symbol = code)\n",
    "        df_fh.to_csv(filename_fh, index = False)\n",
    "    except ValueError as e:\n",
    "        print('')\n",
    "        print(idx, code, row['name'], e)\n",
    "print('Done', len(df))"
   ],
   "outputs": [
    {
     "name": "stdout",
     "output_type": "stream",
     "text": [
      "79\n",
      "159\n",
      "239\n",
      "319\n",
      "399\n",
      "479\n",
      "559\n",
      "639\n",
      "719\n",
      "799\n",
      "879\n",
      "959\n",
      "1039\n",
      "1119\n",
      "1199\n",
      "1279\n",
      "1359\n",
      "1439\n",
      "1519\n",
      "1599\n",
      "1679\n",
      "1759\n",
      "1839\n",
      "1919\n",
      "1999\n",
      "2079\n",
      "2159\n",
      "2239\n",
      "2319\n",
      "2399\n",
      "2479\n",
      "2559\n",
      "2639\n",
      "2719\n",
      "2799\n",
      "2879\n",
      "2959\n",
      "3039\n",
      "3119\n",
      "3199\n",
      "3279\n",
      "3359\n",
      "3439\n",
      "3519\n",
      "3599\n",
      "3679\n",
      "3759\n",
      "3839\n",
      "3919\n",
      "3999\n",
      "4079\n",
      "4159\n",
      "4239\n",
      "4319\n",
      "4399\n",
      "4479\n",
      "4559\n",
      "4639\n",
      "4719\n",
      "4799\n",
      "4879\n",
      "4959\n",
      "5039\n",
      "5119\n",
      "5199\n",
      "5279\n",
      "5359\n",
      "Done 5385\n"
     ]
    }
   ],
   "execution_count": 8
  },
  {
   "cell_type": "code",
   "id": "7f74a3d4-a873-480f-917f-6a03a23e3e60",
   "metadata": {
    "ExecuteTime": {
     "end_time": "2024-07-11T16:35:09.055508Z",
     "start_time": "2024-07-11T16:35:09.055445Z"
    }
   },
   "source": [],
   "outputs": [],
   "execution_count": null
  }
 ],
 "metadata": {
  "kernelspec": {
   "display_name": "Python 3 (ipykernel)",
   "language": "python",
   "name": "python3"
  },
  "language_info": {
   "codemirror_mode": {
    "name": "ipython",
    "version": 3
   },
   "file_extension": ".py",
   "mimetype": "text/x-python",
   "name": "python",
   "nbconvert_exporter": "python",
   "pygments_lexer": "ipython3",
   "version": "3.11.9"
  }
 },
 "nbformat": 4,
 "nbformat_minor": 5
}
